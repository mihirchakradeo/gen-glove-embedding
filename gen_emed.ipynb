{
 "cells": [
  {
   "cell_type": "code",
   "execution_count": 1,
   "metadata": {},
   "outputs": [],
   "source": [
    "import logging\n",
    "\n",
    "from nose.tools import assert_equal, assert_true\n",
    "import numpy as np\n",
    "from numpy.testing import assert_allclose\n",
    "\n",
    "import evaluate\n",
    "import glove"
   ]
  },
  {
   "cell_type": "code",
   "execution_count": 2,
   "metadata": {},
   "outputs": [],
   "source": [
    "file = \"combined_rfc.txt\"\n",
    "# test_corpus = [line.rstrip('\\n') for line in open(file)]"
   ]
  },
  {
   "cell_type": "code",
   "execution_count": 3,
   "metadata": {},
   "outputs": [],
   "source": [
    "# Function to preprocess the file\n",
    "def preprocess(file):\n",
    "    from nltk.tokenize import RegexpTokenizer\n",
    "    test_corpus = []\n",
    "    tokenizer = RegexpTokenizer(r'\\w+')\n",
    "    for line in open(file):\n",
    "        temp = line.strip()\n",
    "        if temp:\n",
    "    #         temp = line.rstrip('\\n')\n",
    "            temp = tokenizer.tokenize(temp)\n",
    "            temp = \" \".join(temp)\n",
    "            test_corpus.append(temp)\n",
    "    return test_corpus"
   ]
  },
  {
   "cell_type": "code",
   "execution_count": 4,
   "metadata": {},
   "outputs": [],
   "source": [
    "def test_similarity():\n",
    "    similar = evaluate.most_similar(W, vocab, id2word, 'graph')\n",
    "    logging.debug(similar)\n",
    "\n",
    "    assert_equal('trees', similar[0])"
   ]
  },
  {
   "cell_type": "code",
   "execution_count": 5,
   "metadata": {},
   "outputs": [],
   "source": [
    "test_corpus = preprocess(file)"
   ]
  },
  {
   "cell_type": "code",
   "execution_count": 6,
   "metadata": {},
   "outputs": [],
   "source": [
    "glove.logger.setLevel(logging.ERROR)\n",
    "vocab = glove.build_vocab(test_corpus)\n",
    "cooccur = glove.build_cooccur(vocab, test_corpus, window_size=10)\n",
    "id2word = evaluate.make_id2word(vocab)\n",
    "\n",
    "W = glove.train_glove(vocab, cooccur, vector_size=10, iterations=500)\n",
    "\n",
    "# Merge and normalize word vectors\n",
    "W = evaluate.merge_main_context(W)\n"
   ]
  },
  {
   "cell_type": "code",
   "execution_count": 11,
   "metadata": {},
   "outputs": [],
   "source": [
    "np.save(\"model/W\", W)\n",
    "np.save(\"model/vocab\", W)\n",
    "np.save(\"model/id2word\", W)"
   ]
  },
  {
   "cell_type": "code",
   "execution_count": 30,
   "metadata": {},
   "outputs": [],
   "source": [
    "# For visualization\n",
    "outfile = open(\"vector_tsv.tsv\", 'w+')\n",
    "for vec in W:\n",
    "    for word in vec:\n",
    "        outfile.write(str(word))\n",
    "        outfile.write(\"\\t\")\n",
    "    outfile.write(\"\\n\")\n",
    "outfile.close()"
   ]
  },
  {
   "cell_type": "code",
   "execution_count": 34,
   "metadata": {},
   "outputs": [],
   "source": [
    "# For visualization metadata\n",
    "outfile = open(\"vector_metadata.tsv\", 'w+')\n",
    "for i in range(len(W)):\n",
    "    outfile.write(str(i))\n",
    "    outfile.write(\"\\t\")\n",
    "    outfile.write(id2word[i])\n",
    "    outfile.write(\"\\n\")\n",
    "outfile.close()"
   ]
  },
  {
   "cell_type": "code",
   "execution_count": null,
   "metadata": {},
   "outputs": [],
   "source": []
  }
 ],
 "metadata": {
  "kernelspec": {
   "display_name": "Python 2",
   "language": "python",
   "name": "python2"
  },
  "language_info": {
   "codemirror_mode": {
    "name": "ipython",
    "version": 2
   },
   "file_extension": ".py",
   "mimetype": "text/x-python",
   "name": "python",
   "nbconvert_exporter": "python",
   "pygments_lexer": "ipython2",
   "version": "2.7.15"
  }
 },
 "nbformat": 4,
 "nbformat_minor": 2
}
